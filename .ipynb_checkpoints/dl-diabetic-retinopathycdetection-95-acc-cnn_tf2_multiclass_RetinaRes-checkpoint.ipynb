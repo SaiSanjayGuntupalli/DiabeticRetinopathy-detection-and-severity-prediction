{
 "cells": [
  {
   "cell_type": "code",
   "execution_count": 1,
   "id": "807325af",
   "metadata": {
    "_cell_guid": "79c7e3d0-c299-4dcb-8224-4455121ee9b0",
    "_uuid": "d629ff2d2480ee46fbb7e2d37f6b5fab8052498a",
    "execution": {
     "iopub.execute_input": "2022-08-07T16:38:29.407554Z",
     "iopub.status.busy": "2022-08-07T16:38:29.406484Z",
     "iopub.status.idle": "2022-08-07T16:38:35.491810Z",
     "shell.execute_reply": "2022-08-07T16:38:35.490793Z"
    },
    "id": "nFAm6AkR5dem",
    "papermill": {
     "duration": 6.105731,
     "end_time": "2022-08-07T16:38:35.494278",
     "exception": false,
     "start_time": "2022-08-07T16:38:29.388547",
     "status": "completed"
    },
    "tags": []
   },
   "outputs": [],
   "source": [
    "from tensorflow import lite\n",
    "import tensorflow as tf\n",
    "from tensorflow import keras\n",
    "from tensorflow.keras import layers\n",
    "import numpy as np\n",
    "import pandas as pd\n",
    "import random, os\n",
    "import shutil\n",
    "import matplotlib.pyplot as plt\n",
    "from matplotlib.image import imread\n",
    "from tensorflow.keras.preprocessing.image import ImageDataGenerator\n",
    "from tensorflow.keras.metrics import categorical_accuracy\n",
    "from sklearn.model_selection import train_test_split"
   ]
  },
  {
   "cell_type": "code",
   "execution_count": 2,
   "id": "d36144e9",
   "metadata": {
    "execution": {
     "iopub.execute_input": "2022-08-07T16:38:35.530723Z",
     "iopub.status.busy": "2022-08-07T16:38:35.528769Z",
     "iopub.status.idle": "2022-08-07T16:38:35.566462Z",
     "shell.execute_reply": "2022-08-07T16:38:35.565267Z"
    },
    "id": "02HUx5fs5dew",
    "outputId": "feb7cede-7dac-4619-9267-9bc4fda77e1f",
    "papermill": {
     "duration": 0.057478,
     "end_time": "2022-08-07T16:38:35.568434",
     "exception": false,
     "start_time": "2022-08-07T16:38:35.510956",
     "status": "completed"
    },
    "tags": []
   },
   "outputs": [
    {
     "data": {
      "text/html": [
       "<div>\n",
       "<style scoped>\n",
       "    .dataframe tbody tr th:only-of-type {\n",
       "        vertical-align: middle;\n",
       "    }\n",
       "\n",
       "    .dataframe tbody tr th {\n",
       "        vertical-align: top;\n",
       "    }\n",
       "\n",
       "    .dataframe thead th {\n",
       "        text-align: right;\n",
       "    }\n",
       "</style>\n",
       "<table border=\"1\" class=\"dataframe\">\n",
       "  <thead>\n",
       "    <tr style=\"text-align: right;\">\n",
       "      <th></th>\n",
       "      <th>id_code</th>\n",
       "      <th>diagnosis</th>\n",
       "      <th>type</th>\n",
       "    </tr>\n",
       "  </thead>\n",
       "  <tbody>\n",
       "    <tr>\n",
       "      <th>0</th>\n",
       "      <td>000c1434d8d7</td>\n",
       "      <td>2</td>\n",
       "      <td>Moderate</td>\n",
       "    </tr>\n",
       "    <tr>\n",
       "      <th>1</th>\n",
       "      <td>001639a390f0</td>\n",
       "      <td>4</td>\n",
       "      <td>Proliferate_DR</td>\n",
       "    </tr>\n",
       "    <tr>\n",
       "      <th>2</th>\n",
       "      <td>0024cdab0c1e</td>\n",
       "      <td>1</td>\n",
       "      <td>Mild</td>\n",
       "    </tr>\n",
       "    <tr>\n",
       "      <th>3</th>\n",
       "      <td>002c21358ce6</td>\n",
       "      <td>0</td>\n",
       "      <td>No_DR</td>\n",
       "    </tr>\n",
       "    <tr>\n",
       "      <th>4</th>\n",
       "      <td>005b95c28852</td>\n",
       "      <td>0</td>\n",
       "      <td>No_DR</td>\n",
       "    </tr>\n",
       "  </tbody>\n",
       "</table>\n",
       "</div>"
      ],
      "text/plain": [
       "        id_code  diagnosis            type\n",
       "0  000c1434d8d7          2        Moderate\n",
       "1  001639a390f0          4  Proliferate_DR\n",
       "2  0024cdab0c1e          1            Mild\n",
       "3  002c21358ce6          0           No_DR\n",
       "4  005b95c28852          0           No_DR"
      ]
     },
     "execution_count": 2,
     "metadata": {},
     "output_type": "execute_result"
    }
   ],
   "source": [
    "# Add an additional column, mapping to the type\n",
    "df = pd.read_csv(r'gaussian_filtered_images/train.csv')\n",
    "\n",
    "diagnosis_dict = {\n",
    "    0: 'No_DR',\n",
    "    1: 'Mild',\n",
    "    2: 'Moderate',\n",
    "    3: 'Severe',\n",
    "    4: 'Proliferate_DR',\n",
    "}\n",
    "\n",
    "df['type'] = df['diagnosis'].map(diagnosis_dict.get)\n",
    "df.head()"
   ]
  },
  {
   "cell_type": "code",
   "execution_count": 3,
   "id": "959c572f",
   "metadata": {
    "execution": {
     "iopub.execute_input": "2022-08-07T16:38:35.601828Z",
     "iopub.status.busy": "2022-08-07T16:38:35.601553Z",
     "iopub.status.idle": "2022-08-07T16:38:35.816272Z",
     "shell.execute_reply": "2022-08-07T16:38:35.815422Z"
    },
    "id": "hariTLPu5de2",
    "outputId": "e823b0da-b643-4d00-8a5f-9d5c2b6fcc2a",
    "papermill": {
     "duration": 0.233994,
     "end_time": "2022-08-07T16:38:35.818442",
     "exception": false,
     "start_time": "2022-08-07T16:38:35.584448",
     "status": "completed"
    },
    "tags": []
   },
   "outputs": [
    {
     "data": {
      "text/plain": [
       "<AxesSubplot:>"
      ]
     },
     "execution_count": 3,
     "metadata": {},
     "output_type": "execute_result"
    },
    {
     "data": {
      "image/png": "[encoded data removed]",
      "text/plain": [
       "<Figure size 432x288 with 1 Axes>"
      ]
     },
     "metadata": {
      "needs_background": "light"
     },
     "output_type": "display_data"
    }
   ],
   "source": [
    "df['type'].value_counts().plot(kind='barh')"
   ]
  },
  {
   "cell_type": "code",
   "execution_count": 4,
   "id": "6275efe1",
   "metadata": {
    "execution": {
     "iopub.execute_input": "2022-08-07T16:38:36.054233Z",
     "iopub.status.busy": "2022-08-07T16:38:36.053964Z",
     "iopub.status.idle": "2022-08-07T16:38:36.073190Z",
     "shell.execute_reply": "2022-08-07T16:38:36.072169Z"
    },
    "id": "4NoJW5jl5de4",
    "outputId": "262e22c1-89c5-4a37-8cc3-396a31e270d0",
    "papermill": {
     "duration": 0.040617,
     "end_time": "2022-08-07T16:38:36.076753",
     "exception": false,
     "start_time": "2022-08-07T16:38:36.036136",
     "status": "completed"
    },
    "tags": []
   },
   "outputs": [
    {
     "name": "stdout",
     "output_type": "stream",
     "text": [
      "No_DR             1263\n",
      "Moderate           699\n",
      "Mild               258\n",
      "Proliferate_DR     207\n",
      "Severe             135\n",
      "Name: type, dtype: int64 \n",
      "\n",
      "No_DR             271\n",
      "Moderate          150\n",
      "Mild               56\n",
      "Proliferate_DR     44\n",
      "Severe             29\n",
      "Name: type, dtype: int64 \n",
      "\n",
      "No_DR             271\n",
      "Moderate          150\n",
      "Mild               56\n",
      "Proliferate_DR     44\n",
      "Severe             29\n",
      "Name: type, dtype: int64 \n",
      "\n"
     ]
    }
   ],
   "source": [
    "# Split into stratified train, val, and test sets\n",
    "train_intermediate, val = train_test_split(df, test_size = 0.15, stratify = df['type'])\n",
    "train, test = train_test_split(train_intermediate, test_size = 0.15 / (1 - 0.15), stratify = train_intermediate['type'])\n",
    "\n",
    "print(train['type'].value_counts(), '\\n')\n",
    "print(test['type'].value_counts(), '\\n')\n",
    "print(val['type'].value_counts(), '\\n')\n"
   ]
  },
  {
   "cell_type": "code",
   "execution_count": 5,
   "id": "e080bfc3",
   "metadata": {
    "execution": {
     "iopub.execute_input": "2022-08-07T16:38:36.112438Z",
     "iopub.status.busy": "2022-08-07T16:38:36.112151Z",
     "iopub.status.idle": "2022-08-07T16:38:36.119836Z",
     "shell.execute_reply": "2022-08-07T16:38:36.118989Z"
    },
    "id": "2UEAgD0W5de6",
    "papermill": {
     "duration": 0.027944,
     "end_time": "2022-08-07T16:38:36.121914",
     "exception": false,
     "start_time": "2022-08-07T16:38:36.093970",
     "status": "completed"
    },
    "tags": []
   },
   "outputs": [],
   "source": [
    "# Create working directories for train/val/test\n",
    "base_dir = ''\n",
    "\n",
    "train_dir = os.path.join(base_dir, 'train')\n",
    "val_dir = os.path.join(base_dir, 'val')\n",
    "test_dir = os.path.join(base_dir, 'test')\n",
    "\n",
    "if os.path.exists(base_dir):\n",
    "    shutil.rmtree(base_dir)\n",
    "\n",
    "if os.path.exists(train_dir):\n",
    "    shutil.rmtree(train_dir)\n",
    "os.makedirs(train_dir)\n",
    "\n",
    "if os.path.exists(val_dir):\n",
    "    shutil.rmtree(val_dir)\n",
    "os.makedirs(val_dir)\n",
    "\n",
    "if os.path.exists(test_dir):\n",
    "    shutil.rmtree(test_dir)\n",
    "os.makedirs(test_dir)\n"
   ]
  },
  {
   "cell_type": "code",
   "execution_count": 6,
   "id": "9943d140",
   "metadata": {
    "execution": {
     "iopub.execute_input": "2022-08-07T16:38:36.156105Z",
     "iopub.status.busy": "2022-08-07T16:38:36.155852Z",
     "iopub.status.idle": "2022-08-07T16:38:54.471729Z",
     "shell.execute_reply": "2022-08-07T16:38:54.470764Z"
    },
    "id": "sweLv9175de9",
    "papermill": {
     "duration": 18.336013,
     "end_time": "2022-08-07T16:38:54.474129",
     "exception": false,
     "start_time": "2022-08-07T16:38:36.138116",
     "status": "completed"
    },
    "tags": []
   },
   "outputs": [],
   "source": [
    "# Copy images to respective working directory\n",
    "src_dir = r'gaussian_filtered_images/gaussian_filtered_images'\n",
    "for index, row in train.iterrows():\n",
    "    diagnosis = row['type']\n",
    "    multi_class_diagnosis = row['type']\n",
    "    id_code = row['id_code'] + \".png\"\n",
    "    srcfile = os.path.join(src_dir, diagnosis, id_code)\n",
    "    dstfile = os.path.join(train_dir, multi_class_diagnosis)\n",
    "    os.makedirs(dstfile, exist_ok = True)\n",
    "    shutil.copy(srcfile, dstfile)\n",
    "\n",
    "for index, row in val.iterrows():\n",
    "    diagnosis = row['type']\n",
    "    multi_class_diagnosis = row['type']\n",
    "    id_code = row['id_code'] + \".png\"\n",
    "    srcfile = os.path.join(src_dir, diagnosis, id_code)\n",
    "    dstfile = os.path.join(val_dir, multi_class_diagnosis)\n",
    "    os.makedirs(dstfile, exist_ok = True)\n",
    "    shutil.copy(srcfile, dstfile)\n",
    "\n",
    "for index, row in test.iterrows():\n",
    "    diagnosis = row['type']\n",
    "    multi_class_diagnosis = row['type']\n",
    "    id_code = row['id_code'] + \".png\"\n",
    "    srcfile = os.path.join(src_dir, diagnosis, id_code)\n",
    "    dstfile = os.path.join(test_dir, multi_class_diagnosis)\n",
    "    os.makedirs(dstfile, exist_ok = True)\n",
    "    shutil.copy(srcfile, dstfile)\n"
   ]
  },
  {
   "cell_type": "code",
   "execution_count": 7,
   "id": "b3a949ae",
   "metadata": {
    "execution": {
     "iopub.execute_input": "2022-08-07T16:38:54.609643Z",
     "iopub.status.busy": "2022-08-07T16:38:54.609081Z",
     "iopub.status.idle": "2022-08-07T16:38:55.039994Z",
     "shell.execute_reply": "2022-08-07T16:38:55.039071Z"
    },
    "id": "kcYe-AOO5dfA",
    "outputId": "c816c2a6-1d4b-4488-a5a6-4800819b96d7",
    "papermill": {
     "duration": 0.4838,
     "end_time": "2022-08-07T16:38:55.042285",
     "exception": false,
     "start_time": "2022-08-07T16:38:54.558485",
     "status": "completed"
    },
    "tags": []
   },
   "outputs": [
    {
     "name": "stdout",
     "output_type": "stream",
     "text": [
      "Found 2562 images belonging to 5 classes.\n",
      "Found 550 images belonging to 5 classes.\n",
      "Found 550 images belonging to 5 classes.\n"
     ]
    }
   ],
   "source": [
    "# Setting up ImageDataGenerator for train/val/test \n",
    "\n",
    "train_path = 'train'\n",
    "val_path = 'val'\n",
    "test_path = 'test'\n",
    "\n",
    "train_batches = ImageDataGenerator(rescale = 1./255).flow_from_directory(train_path, target_size=(224,224), shuffle = True)\n",
    "val_batches = ImageDataGenerator(rescale = 1./255).flow_from_directory(val_path, target_size=(224,224), shuffle = True)\n",
    "test_batches = ImageDataGenerator(rescale = 1./255).flow_from_directory(test_path, target_size=(224,224), shuffle = False)\n"
   ]
  },
  {
   "cell_type": "code",
   "execution_count": 8,
   "id": "7d04a49b",
   "metadata": {
    "execution": {
     "iopub.execute_input": "2022-08-07T16:38:55.078073Z",
     "iopub.status.busy": "2022-08-07T16:38:55.077783Z",
     "iopub.status.idle": "2022-08-07T16:43:21.214139Z",
     "shell.execute_reply": "2022-08-07T16:43:21.213180Z"
    },
    "id": "NHgHS22d5dfE",
    "outputId": "6ae2499c-e780-47d0-9165-89c3868c2822",
    "papermill": {
     "duration": 266.156666,
     "end_time": "2022-08-07T16:43:21.216493",
     "exception": false,
     "start_time": "2022-08-07T16:38:55.059827",
     "status": "completed"
    },
    "tags": []
   },
   "outputs": [
    {
     "ename": "ImportError",
     "evalue": "cannot import name 'K'",
     "output_type": "error",
     "traceback": [
      "\u001b[1;31m---------------------------------------------------------------------------\u001b[0m",
      "\u001b[1;31mImportError\u001b[0m                               Traceback (most recent call last)",
      "\u001b[1;32m<ipython-input-8-4fab099d3892>\u001b[0m in \u001b[0;36m<module>\u001b[1;34m\u001b[0m\n\u001b[0;32m      1\u001b[0m \u001b[1;31m# Building the model\u001b[0m\u001b[1;33m\u001b[0m\u001b[1;33m\u001b[0m\u001b[1;33m\u001b[0m\u001b[0m\n\u001b[1;32m----> 2\u001b[1;33m \u001b[1;32mfrom\u001b[0m \u001b[0mtensorflow\u001b[0m\u001b[1;33m.\u001b[0m\u001b[0mkeras\u001b[0m \u001b[1;32mimport\u001b[0m \u001b[0mK\u001b[0m\u001b[1;33m\u001b[0m\u001b[1;33m\u001b[0m\u001b[0m\n\u001b[0m\u001b[0;32m      3\u001b[0m \u001b[1;33m\u001b[0m\u001b[0m\n\u001b[0;32m      4\u001b[0m \u001b[0minputs\u001b[0m \u001b[1;33m=\u001b[0m \u001b[0mK\u001b[0m\u001b[1;33m.\u001b[0m\u001b[0mInput\u001b[0m\u001b[1;33m(\u001b[0m\u001b[0mshape\u001b[0m\u001b[1;33m=\u001b[0m\u001b[1;33m(\u001b[0m\u001b[1;36m224\u001b[0m\u001b[1;33m,\u001b[0m \u001b[1;36m224\u001b[0m\u001b[1;33m,\u001b[0m \u001b[1;36m3\u001b[0m\u001b[1;33m)\u001b[0m\u001b[1;33m)\u001b[0m\u001b[1;33m\u001b[0m\u001b[1;33m\u001b[0m\u001b[0m\n\u001b[0;32m      5\u001b[0m \u001b[1;33m\u001b[0m\u001b[0m\n",
      "\u001b[1;31mImportError\u001b[0m: cannot import name 'K'"
     ]
    }
   ],
   "source": [
    "# Building the model\n",
    "import tensorflow.keras as K\n",
    "\n",
    "inputs = K.Input(shape=(224, 224, 3))\n",
    "\n",
    "resnet = K.applications.ResNet50(weights='imagenet',\n",
    "                                 include_top=False, input_tensor=inputs)\n",
    "\n",
    "for layer in resnet.layers[:170]:\n",
    "    layer.trainable = False\n",
    "\n",
    "model = K.models.Sequential()\n",
    "model.add(K.layers.Lambda(lambda x: tf.image.resize(x, (224, 224))))\n",
    "model.add(resnet)\n",
    "model.add(K.layers.GlobalAveragePooling2D())\n",
    "model.add(K.layers.BatchNormalization())\n",
    "model.add(K.layers.Dense(256, activation='relu'))\n",
    "model.add(K.layers.BatchNormalization())\n",
    "model.add(K.layers.Dense(128, activation='relu'))\n",
    "model.add(K.layers.Dropout(0.3))\n",
    "model.add(K.layers.BatchNormalization())\n",
    "model.add(K.layers.Dense(64, activation='relu'))\n",
    "model.add(K.layers.Dropout(0.3))\n",
    "model.add(K.layers.BatchNormalization())\n",
    "model.add(K.layers.Dense(5, activation='softmax'))\n",
    "model.compile(loss='binary_crossentropy',optimizer=K.optimizers.RMSprop(lr=2e-5),metrics=['accuracy'])\n",
    "\n",
    "history = model.fit(train_batches,\n",
    "                    epochs=30,\n",
    "                    validation_data=val_batches)"
   ]
  },
  {
   "cell_type": "code",
   "execution_count": null,
   "id": "e2efc560",
   "metadata": {
    "execution": {
     "iopub.execute_input": "2022-08-07T16:43:21.497974Z",
     "iopub.status.busy": "2022-08-07T16:43:21.497096Z",
     "iopub.status.idle": "2022-08-07T16:43:23.621211Z",
     "shell.execute_reply": "2022-08-07T16:43:23.620283Z"
    },
    "id": "IBOVVVRc5dfu",
    "outputId": "625ca660-456b-4517-f62d-135583381a45",
    "papermill": {
     "duration": 2.270333,
     "end_time": "2022-08-07T16:43:23.626689",
     "exception": false,
     "start_time": "2022-08-07T16:43:21.356356",
     "status": "completed"
    },
    "tags": []
   },
   "outputs": [],
   "source": [
    "model.save('CNN.h5')"
   ]
  },
  {
   "cell_type": "code",
   "execution_count": null,
   "id": "755164b7",
   "metadata": {
    "execution": {
     "iopub.execute_input": "2022-08-07T16:43:23.905781Z",
     "iopub.status.busy": "2022-08-07T16:43:23.905435Z",
     "iopub.status.idle": "2022-08-07T16:43:25.467514Z",
     "shell.execute_reply": "2022-08-07T16:43:25.466436Z"
    },
    "id": "IgJED3835dfv",
    "outputId": "62f56046-72c3-48ce-ad85-4dcce241a976",
    "papermill": {
     "duration": 1.705182,
     "end_time": "2022-08-07T16:43:25.470202",
     "exception": false,
     "start_time": "2022-08-07T16:43:23.765020",
     "status": "completed"
    },
    "tags": []
   },
   "outputs": [],
   "source": [
    "loss, acc = model.evaluate_generator(test_batches, verbose=1)\n",
    "# print(\"Loss: \", loss)\n",
    "print(\"Accuracy: \", acc)"
   ]
  },
  {
   "cell_type": "markdown",
   "id": "8198e0a7",
   "metadata": {
    "papermill": {
     "duration": 0.138913,
     "end_time": "2022-08-07T16:43:25.802315",
     "exception": false,
     "start_time": "2022-08-07T16:43:25.663402",
     "status": "completed"
    },
    "tags": []
   },
   "source": [
    "# ****Diabet Retinopathy Detection Section****"
   ]
  },
  {
   "cell_type": "code",
   "execution_count": null,
   "id": "b4c98a9e",
   "metadata": {
    "execution": {
     "iopub.execute_input": "2022-08-07T16:43:26.083274Z",
     "iopub.status.busy": "2022-08-07T16:43:26.082924Z",
     "iopub.status.idle": "2022-08-07T16:43:26.253449Z",
     "shell.execute_reply": "2022-08-07T16:43:26.252489Z"
    },
    "papermill": {
     "duration": 0.314082,
     "end_time": "2022-08-07T16:43:26.255602",
     "exception": false,
     "start_time": "2022-08-07T16:43:25.941520",
     "status": "completed"
    },
    "tags": []
   },
   "outputs": [],
   "source": [
    "import tensorflow as tf\n",
    "import cv2\n",
    "import numpy as np\n",
    "import matplotlib.pyplot as plt\n",
    "\n",
    "def predict_class(path):\n",
    "    img = cv2.imread(path)\n",
    "\n",
    "    RGBImg = cv2.cvtColor(img,cv2.COLOR_BGR2RGB)\n",
    "    RGBImg= cv2.resize(RGBImg,(224,224))\n",
    "    plt.imshow(RGBImg)\n",
    "    image = np.array(RGBImg) / 255.0\n",
    "    new_model = tf.keras.models.load_model(\"CNN.h5\")\n",
    "    predict=new_model.predict(np.array([image]))\n",
    "    print(predict)\n",
    "    per=np.argmax(predict,axis=1)\n",
    "    print(per[0])\n",
    "    print(diagnosis_dict[per[0]])"
   ]
  },
  {
   "cell_type": "code",
   "execution_count": null,
   "id": "c1dcd35d",
   "metadata": {
    "execution": {
     "iopub.execute_input": "2022-08-07T16:43:26.539834Z",
     "iopub.status.busy": "2022-08-07T16:43:26.539237Z",
     "iopub.status.idle": "2022-08-07T16:43:27.592276Z",
     "shell.execute_reply": "2022-08-07T16:43:27.591288Z"
    },
    "papermill": {
     "duration": 1.199096,
     "end_time": "2022-08-07T16:43:27.594547",
     "exception": false,
     "start_time": "2022-08-07T16:43:26.395451",
     "status": "completed"
    },
    "tags": []
   },
   "outputs": [],
   "source": [
    "predict_class('gaussian_filtered_images/gaussian_filtered_images/Severe/03c85870824c.png')"
   ]
  }
 ],
 "metadata": {
  "kernelspec": {
   "display_name": "Python 3 (ipykernel)",
   "language": "python",
   "name": "python3"
  },
  "language_info": {
   "codemirror_mode": {
    "name": "ipython",
    "version": 3
   },
   "file_extension": ".py",
   "mimetype": "text/x-python",
   "name": "python",
   "nbconvert_exporter": "python",
   "pygments_lexer": "ipython3",
   "version": "3.6.9"
  },
  "papermill": {
   "default_parameters": {},
   "duration": 310.46044,
   "end_time": "2022-08-07T16:43:31.953020",
   "environment_variables": {},
   "exception": null,
   "input_path": "__notebook__.ipynb",
   "output_path": "__notebook__.ipynb",
   "parameters": {},
   "start_time": "2022-08-07T16:38:21.492580",
   "version": "2.3.4"
  }
 },
 "nbformat": 4,
 "nbformat_minor": 5
}
